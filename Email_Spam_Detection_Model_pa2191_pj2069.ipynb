{
 "cells": [
  {
   "cell_type": "markdown",
   "metadata": {
    "id": "Nj1r4OeiHwCh"
   },
   "source": [
    "***Machine Learning - SPAM DETECTION - Prachika Agarwal(pa2191) and Pranjal Jain(pj2069)***"
   ]
  },
  {
   "cell_type": "code",
   "execution_count": null,
   "metadata": {
    "colab": {
     "base_uri": "https://localhost:8080/"
    },
    "id": "R92yf7x8WgeS",
    "outputId": "9c6c827e-84d1-4c35-8f56-ef7f8c5d6ff7"
   },
   "outputs": [
    {
     "name": "stdout",
     "output_type": "stream",
     "text": [
      "[nltk_data] Downloading package stopwords to /root/nltk_data...\n",
      "[nltk_data]   Package stopwords is already up-to-date!\n"
     ]
    },
    {
     "data": {
      "text/plain": [
       "True"
      ]
     },
     "execution_count": 1,
     "metadata": {},
     "output_type": "execute_result"
    }
   ],
   "source": [
    "import numpy as np\n",
    "import pandas as pd\n",
    "from sklearn.model_selection import train_test_split\n",
    "import warnings\n",
    "from google.colab import drive\n",
    "import nltk\n",
    "from nltk.corpus import stopwords\n",
    "from nltk.tokenize import word_tokenize\n",
    "import matplotlib.pyplot as plt\n",
    "\n",
    "#Models\n",
    "from sklearn.naive_bayes import MultinomialNB\n",
    "from sklearn.metrics import classification_report, confusion_matrix, accuracy_score\n",
    "from sklearn.feature_extraction.text import CountVectorizer\n",
    "from sklearn.naive_bayes import GaussianNB\n",
    "from sklearn.linear_model import LogisticRegression\n",
    "from sklearn.model_selection import GridSearchCV\n",
    "from sklearn.model_selection import KFold\n",
    "from sklearn.ensemble import RandomForestClassifier\n",
    "\n",
    "warnings.filterwarnings('ignore')\n",
    "nltk.download(\"stopwords\")"
   ]
  },
  {
   "cell_type": "code",
   "execution_count": null,
   "metadata": {
    "colab": {
     "base_uri": "https://localhost:8080/",
     "height": 381
    },
    "id": "0WP7yMPuYEPO",
    "outputId": "c0acf831-feee-4272-de99-cae868265cd5"
   },
   "outputs": [
    {
     "name": "stdout",
     "output_type": "stream",
     "text": [
      "Drive already mounted at /content/drive; to attempt to forcibly remount, call drive.mount(\"/content/drive\", force_remount=True).\n"
     ]
    },
    {
     "data": {
      "text/html": [
       "\n",
       "  <div id=\"df-ab30b72f-aea8-4839-8fd7-676cdb15abd6\">\n",
       "    <div class=\"colab-df-container\">\n",
       "      <div>\n",
       "<style scoped>\n",
       "    .dataframe tbody tr th:only-of-type {\n",
       "        vertical-align: middle;\n",
       "    }\n",
       "\n",
       "    .dataframe tbody tr th {\n",
       "        vertical-align: top;\n",
       "    }\n",
       "\n",
       "    .dataframe thead th {\n",
       "        text-align: right;\n",
       "    }\n",
       "</style>\n",
       "<table border=\"1\" class=\"dataframe\">\n",
       "  <thead>\n",
       "    <tr style=\"text-align: right;\">\n",
       "      <th></th>\n",
       "      <th>Unnamed</th>\n",
       "      <th>label</th>\n",
       "      <th>text</th>\n",
       "      <th>label_num</th>\n",
       "    </tr>\n",
       "  </thead>\n",
       "  <tbody>\n",
       "    <tr>\n",
       "      <th>0</th>\n",
       "      <td>605</td>\n",
       "      <td>ham</td>\n",
       "      <td>Subject: enron methanol ; meter # : 988291\\r\\n...</td>\n",
       "      <td>0</td>\n",
       "    </tr>\n",
       "    <tr>\n",
       "      <th>1</th>\n",
       "      <td>2349</td>\n",
       "      <td>ham</td>\n",
       "      <td>Subject: hpl nom for january 9 , 2001\\r\\n( see...</td>\n",
       "      <td>0</td>\n",
       "    </tr>\n",
       "    <tr>\n",
       "      <th>2</th>\n",
       "      <td>3624</td>\n",
       "      <td>ham</td>\n",
       "      <td>Subject: neon retreat\\r\\nho ho ho , we ' re ar...</td>\n",
       "      <td>0</td>\n",
       "    </tr>\n",
       "    <tr>\n",
       "      <th>3</th>\n",
       "      <td>4685</td>\n",
       "      <td>spam</td>\n",
       "      <td>Subject: photoshop , windows , office . cheap ...</td>\n",
       "      <td>1</td>\n",
       "    </tr>\n",
       "    <tr>\n",
       "      <th>4</th>\n",
       "      <td>2030</td>\n",
       "      <td>ham</td>\n",
       "      <td>Subject: re : indian springs\\r\\nthis deal is t...</td>\n",
       "      <td>0</td>\n",
       "    </tr>\n",
       "    <tr>\n",
       "      <th>5</th>\n",
       "      <td>2949</td>\n",
       "      <td>ham</td>\n",
       "      <td>Subject: ehronline web address change\\r\\nthis ...</td>\n",
       "      <td>0</td>\n",
       "    </tr>\n",
       "    <tr>\n",
       "      <th>6</th>\n",
       "      <td>2793</td>\n",
       "      <td>ham</td>\n",
       "      <td>Subject: spring savings certificate - take 30 ...</td>\n",
       "      <td>0</td>\n",
       "    </tr>\n",
       "    <tr>\n",
       "      <th>7</th>\n",
       "      <td>4185</td>\n",
       "      <td>spam</td>\n",
       "      <td>Subject: looking for medication ? we ` re the ...</td>\n",
       "      <td>1</td>\n",
       "    </tr>\n",
       "    <tr>\n",
       "      <th>8</th>\n",
       "      <td>2641</td>\n",
       "      <td>ham</td>\n",
       "      <td>Subject: noms / actual flow for 2 / 26\\r\\nwe a...</td>\n",
       "      <td>0</td>\n",
       "    </tr>\n",
       "    <tr>\n",
       "      <th>9</th>\n",
       "      <td>1870</td>\n",
       "      <td>ham</td>\n",
       "      <td>Subject: nominations for oct . 21 - 23 , 2000\\...</td>\n",
       "      <td>0</td>\n",
       "    </tr>\n",
       "  </tbody>\n",
       "</table>\n",
       "</div>\n",
       "      <button class=\"colab-df-convert\" onclick=\"convertToInteractive('df-ab30b72f-aea8-4839-8fd7-676cdb15abd6')\"\n",
       "              title=\"Convert this dataframe to an interactive table.\"\n",
       "              style=\"display:none;\">\n",
       "        \n",
       "  <svg xmlns=\"http://www.w3.org/2000/svg\" height=\"24px\"viewBox=\"0 0 24 24\"\n",
       "       width=\"24px\">\n",
       "    <path d=\"M0 0h24v24H0V0z\" fill=\"none\"/>\n",
       "    <path d=\"M18.56 5.44l.94 2.06.94-2.06 2.06-.94-2.06-.94-.94-2.06-.94 2.06-2.06.94zm-11 1L8.5 8.5l.94-2.06 2.06-.94-2.06-.94L8.5 2.5l-.94 2.06-2.06.94zm10 10l.94 2.06.94-2.06 2.06-.94-2.06-.94-.94-2.06-.94 2.06-2.06.94z\"/><path d=\"M17.41 7.96l-1.37-1.37c-.4-.4-.92-.59-1.43-.59-.52 0-1.04.2-1.43.59L10.3 9.45l-7.72 7.72c-.78.78-.78 2.05 0 2.83L4 21.41c.39.39.9.59 1.41.59.51 0 1.02-.2 1.41-.59l7.78-7.78 2.81-2.81c.8-.78.8-2.07 0-2.86zM5.41 20L4 18.59l7.72-7.72 1.47 1.35L5.41 20z\"/>\n",
       "  </svg>\n",
       "      </button>\n",
       "      \n",
       "  <style>\n",
       "    .colab-df-container {\n",
       "      display:flex;\n",
       "      flex-wrap:wrap;\n",
       "      gap: 12px;\n",
       "    }\n",
       "\n",
       "    .colab-df-convert {\n",
       "      background-color: #E8F0FE;\n",
       "      border: none;\n",
       "      border-radius: 50%;\n",
       "      cursor: pointer;\n",
       "      display: none;\n",
       "      fill: #1967D2;\n",
       "      height: 32px;\n",
       "      padding: 0 0 0 0;\n",
       "      width: 32px;\n",
       "    }\n",
       "\n",
       "    .colab-df-convert:hover {\n",
       "      background-color: #E2EBFA;\n",
       "      box-shadow: 0px 1px 2px rgba(60, 64, 67, 0.3), 0px 1px 3px 1px rgba(60, 64, 67, 0.15);\n",
       "      fill: #174EA6;\n",
       "    }\n",
       "\n",
       "    [theme=dark] .colab-df-convert {\n",
       "      background-color: #3B4455;\n",
       "      fill: #D2E3FC;\n",
       "    }\n",
       "\n",
       "    [theme=dark] .colab-df-convert:hover {\n",
       "      background-color: #434B5C;\n",
       "      box-shadow: 0px 1px 3px 1px rgba(0, 0, 0, 0.15);\n",
       "      filter: drop-shadow(0px 1px 2px rgba(0, 0, 0, 0.3));\n",
       "      fill: #FFFFFF;\n",
       "    }\n",
       "  </style>\n",
       "\n",
       "      <script>\n",
       "        const buttonEl =\n",
       "          document.querySelector('#df-ab30b72f-aea8-4839-8fd7-676cdb15abd6 button.colab-df-convert');\n",
       "        buttonEl.style.display =\n",
       "          google.colab.kernel.accessAllowed ? 'block' : 'none';\n",
       "\n",
       "        async function convertToInteractive(key) {\n",
       "          const element = document.querySelector('#df-ab30b72f-aea8-4839-8fd7-676cdb15abd6');\n",
       "          const dataTable =\n",
       "            await google.colab.kernel.invokeFunction('convertToInteractive',\n",
       "                                                     [key], {});\n",
       "          if (!dataTable) return;\n",
       "\n",
       "          const docLinkHtml = 'Like what you see? Visit the ' +\n",
       "            '<a target=\"_blank\" href=https://colab.research.google.com/notebooks/data_table.ipynb>data table notebook</a>'\n",
       "            + ' to learn more about interactive tables.';\n",
       "          element.innerHTML = '';\n",
       "          dataTable['output_type'] = 'display_data';\n",
       "          await google.colab.output.renderOutput(dataTable, element);\n",
       "          const docLink = document.createElement('div');\n",
       "          docLink.innerHTML = docLinkHtml;\n",
       "          element.appendChild(docLink);\n",
       "        }\n",
       "      </script>\n",
       "    </div>\n",
       "  </div>\n",
       "  "
      ],
      "text/plain": [
       "   Unnamed label                                               text  label_num\n",
       "0      605   ham  Subject: enron methanol ; meter # : 988291\\r\\n...          0\n",
       "1     2349   ham  Subject: hpl nom for january 9 , 2001\\r\\n( see...          0\n",
       "2     3624   ham  Subject: neon retreat\\r\\nho ho ho , we ' re ar...          0\n",
       "3     4685  spam  Subject: photoshop , windows , office . cheap ...          1\n",
       "4     2030   ham  Subject: re : indian springs\\r\\nthis deal is t...          0\n",
       "5     2949   ham  Subject: ehronline web address change\\r\\nthis ...          0\n",
       "6     2793   ham  Subject: spring savings certificate - take 30 ...          0\n",
       "7     4185  spam  Subject: looking for medication ? we ` re the ...          1\n",
       "8     2641   ham  Subject: noms / actual flow for 2 / 26\\r\\nwe a...          0\n",
       "9     1870   ham  Subject: nominations for oct . 21 - 23 , 2000\\...          0"
      ]
     },
     "execution_count": 4,
     "metadata": {},
     "output_type": "execute_result"
    }
   ],
   "source": [
    "# Importing dataset\n",
    "# Data taken from these two sources and combined together and filtered to include 7793 samples:\n",
    "# https://www.kaggle.com/code/syamkakarla/spam-mail-classifier/data\n",
    "# https://github.com/omaarelsherif/Email-Spam-Detection-Using-Machine-Learning/tree/main/Dataset\n",
    "\n",
    "# drive link for dataset - https://drive.google.com/file/d/1OuUCis-IZFpjJ3AvCip2WcGBQ61k_xrS/view?usp=sharing\n",
    "drive.mount('/content/drive')\n",
    "data_dir = '/content/drive/MyDrive/emailspamdetection/'\n",
    "\n",
    "# Reading the csv file and printing top 10 values\n",
    "df = pd.read_csv(data_dir+'spam_emails.csv')\n",
    "df.head(10)"
   ]
  },
  {
   "cell_type": "code",
   "execution_count": null,
   "metadata": {
    "colab": {
     "base_uri": "https://localhost:8080/",
     "height": 452
    },
    "id": "IdbsCnmAZ1KI",
    "outputId": "2fde6bef-939e-41ff-c4de-3a9a796fd09d"
   },
   "outputs": [
    {
     "name": "stdout",
     "output_type": "stream",
     "text": [
      "(7793, 3)\n",
      "label        0\n",
      "text         0\n",
      "label_num    0\n",
      "dtype: int64\n"
     ]
    },
    {
     "data": {
      "text/html": [
       "\n",
       "  <div id=\"df-9bbea06c-12af-41d0-b259-e12909dd9f72\">\n",
       "    <div class=\"colab-df-container\">\n",
       "      <div>\n",
       "<style scoped>\n",
       "    .dataframe tbody tr th:only-of-type {\n",
       "        vertical-align: middle;\n",
       "    }\n",
       "\n",
       "    .dataframe tbody tr th {\n",
       "        vertical-align: top;\n",
       "    }\n",
       "\n",
       "    .dataframe thead th {\n",
       "        text-align: right;\n",
       "    }\n",
       "</style>\n",
       "<table border=\"1\" class=\"dataframe\">\n",
       "  <thead>\n",
       "    <tr style=\"text-align: right;\">\n",
       "      <th></th>\n",
       "      <th>label</th>\n",
       "      <th>text</th>\n",
       "      <th>label_num</th>\n",
       "    </tr>\n",
       "  </thead>\n",
       "  <tbody>\n",
       "    <tr>\n",
       "      <th>0</th>\n",
       "      <td>ham</td>\n",
       "      <td>Subject enron methanol  meter   988291 follow ...</td>\n",
       "      <td>0</td>\n",
       "    </tr>\n",
       "    <tr>\n",
       "      <th>1</th>\n",
       "      <td>ham</td>\n",
       "      <td>Subject hpl nom january 9  2001  see attached ...</td>\n",
       "      <td>0</td>\n",
       "    </tr>\n",
       "    <tr>\n",
       "      <th>2</th>\n",
       "      <td>ham</td>\n",
       "      <td>Subject neon retreat ho ho ho   around wonderf...</td>\n",
       "      <td>0</td>\n",
       "    </tr>\n",
       "    <tr>\n",
       "      <th>3</th>\n",
       "      <td>spam</td>\n",
       "      <td>Subject photoshop  windows  office  cheap  mai...</td>\n",
       "      <td>1</td>\n",
       "    </tr>\n",
       "    <tr>\n",
       "      <th>4</th>\n",
       "      <td>ham</td>\n",
       "      <td>Subject  indian springs deal book teco pvr rev...</td>\n",
       "      <td>0</td>\n",
       "    </tr>\n",
       "    <tr>\n",
       "      <th>5</th>\n",
       "      <td>ham</td>\n",
       "      <td>Subject ehronline web address change message i...</td>\n",
       "      <td>0</td>\n",
       "    </tr>\n",
       "    <tr>\n",
       "      <th>6</th>\n",
       "      <td>ham</td>\n",
       "      <td>Subject spring savings certificate  take 30  s...</td>\n",
       "      <td>0</td>\n",
       "    </tr>\n",
       "    <tr>\n",
       "      <th>7</th>\n",
       "      <td>spam</td>\n",
       "      <td>Subject looking medication   best source  diff...</td>\n",
       "      <td>1</td>\n",
       "    </tr>\n",
       "    <tr>\n",
       "      <th>8</th>\n",
       "      <td>ham</td>\n",
       "      <td>Subject noms  actual flow 2  26 agree         ...</td>\n",
       "      <td>0</td>\n",
       "    </tr>\n",
       "    <tr>\n",
       "      <th>9</th>\n",
       "      <td>ham</td>\n",
       "      <td>Subject nominations oct  21  23  2000  see att...</td>\n",
       "      <td>0</td>\n",
       "    </tr>\n",
       "  </tbody>\n",
       "</table>\n",
       "</div>\n",
       "      <button class=\"colab-df-convert\" onclick=\"convertToInteractive('df-9bbea06c-12af-41d0-b259-e12909dd9f72')\"\n",
       "              title=\"Convert this dataframe to an interactive table.\"\n",
       "              style=\"display:none;\">\n",
       "        \n",
       "  <svg xmlns=\"http://www.w3.org/2000/svg\" height=\"24px\"viewBox=\"0 0 24 24\"\n",
       "       width=\"24px\">\n",
       "    <path d=\"M0 0h24v24H0V0z\" fill=\"none\"/>\n",
       "    <path d=\"M18.56 5.44l.94 2.06.94-2.06 2.06-.94-2.06-.94-.94-2.06-.94 2.06-2.06.94zm-11 1L8.5 8.5l.94-2.06 2.06-.94-2.06-.94L8.5 2.5l-.94 2.06-2.06.94zm10 10l.94 2.06.94-2.06 2.06-.94-2.06-.94-.94-2.06-.94 2.06-2.06.94z\"/><path d=\"M17.41 7.96l-1.37-1.37c-.4-.4-.92-.59-1.43-.59-.52 0-1.04.2-1.43.59L10.3 9.45l-7.72 7.72c-.78.78-.78 2.05 0 2.83L4 21.41c.39.39.9.59 1.41.59.51 0 1.02-.2 1.41-.59l7.78-7.78 2.81-2.81c.8-.78.8-2.07 0-2.86zM5.41 20L4 18.59l7.72-7.72 1.47 1.35L5.41 20z\"/>\n",
       "  </svg>\n",
       "      </button>\n",
       "      \n",
       "  <style>\n",
       "    .colab-df-container {\n",
       "      display:flex;\n",
       "      flex-wrap:wrap;\n",
       "      gap: 12px;\n",
       "    }\n",
       "\n",
       "    .colab-df-convert {\n",
       "      background-color: #E8F0FE;\n",
       "      border: none;\n",
       "      border-radius: 50%;\n",
       "      cursor: pointer;\n",
       "      display: none;\n",
       "      fill: #1967D2;\n",
       "      height: 32px;\n",
       "      padding: 0 0 0 0;\n",
       "      width: 32px;\n",
       "    }\n",
       "\n",
       "    .colab-df-convert:hover {\n",
       "      background-color: #E2EBFA;\n",
       "      box-shadow: 0px 1px 2px rgba(60, 64, 67, 0.3), 0px 1px 3px 1px rgba(60, 64, 67, 0.15);\n",
       "      fill: #174EA6;\n",
       "    }\n",
       "\n",
       "    [theme=dark] .colab-df-convert {\n",
       "      background-color: #3B4455;\n",
       "      fill: #D2E3FC;\n",
       "    }\n",
       "\n",
       "    [theme=dark] .colab-df-convert:hover {\n",
       "      background-color: #434B5C;\n",
       "      box-shadow: 0px 1px 3px 1px rgba(0, 0, 0, 0.15);\n",
       "      filter: drop-shadow(0px 1px 2px rgba(0, 0, 0, 0.3));\n",
       "      fill: #FFFFFF;\n",
       "    }\n",
       "  </style>\n",
       "\n",
       "      <script>\n",
       "        const buttonEl =\n",
       "          document.querySelector('#df-9bbea06c-12af-41d0-b259-e12909dd9f72 button.colab-df-convert');\n",
       "        buttonEl.style.display =\n",
       "          google.colab.kernel.accessAllowed ? 'block' : 'none';\n",
       "\n",
       "        async function convertToInteractive(key) {\n",
       "          const element = document.querySelector('#df-9bbea06c-12af-41d0-b259-e12909dd9f72');\n",
       "          const dataTable =\n",
       "            await google.colab.kernel.invokeFunction('convertToInteractive',\n",
       "                                                     [key], {});\n",
       "          if (!dataTable) return;\n",
       "\n",
       "          const docLinkHtml = 'Like what you see? Visit the ' +\n",
       "            '<a target=\"_blank\" href=https://colab.research.google.com/notebooks/data_table.ipynb>data table notebook</a>'\n",
       "            + ' to learn more about interactive tables.';\n",
       "          element.innerHTML = '';\n",
       "          dataTable['output_type'] = 'display_data';\n",
       "          await google.colab.output.renderOutput(dataTable, element);\n",
       "          const docLink = document.createElement('div');\n",
       "          docLink.innerHTML = docLinkHtml;\n",
       "          element.appendChild(docLink);\n",
       "        }\n",
       "      </script>\n",
       "    </div>\n",
       "  </div>\n",
       "  "
      ],
      "text/plain": [
       "  label                                               text  label_num\n",
       "0   ham  Subject enron methanol  meter   988291 follow ...          0\n",
       "1   ham  Subject hpl nom january 9  2001  see attached ...          0\n",
       "2   ham  Subject neon retreat ho ho ho   around wonderf...          0\n",
       "3  spam  Subject photoshop  windows  office  cheap  mai...          1\n",
       "4   ham  Subject  indian springs deal book teco pvr rev...          0\n",
       "5   ham  Subject ehronline web address change message i...          0\n",
       "6   ham  Subject spring savings certificate  take 30  s...          0\n",
       "7  spam  Subject looking medication   best source  diff...          1\n",
       "8   ham  Subject noms  actual flow 2  26 agree         ...          0\n",
       "9   ham  Subject nominations oct  21  23  2000  see att...          0"
      ]
     },
     "execution_count": 5,
     "metadata": {},
     "output_type": "execute_result"
    }
   ],
   "source": [
    "# Data Cleaning\n",
    "# Reference for data cleaning - https://www.kaggle.com/code/syamkakarla/spam-mail-classifier\n",
    "\n",
    "# Converting \n",
    "df = df.astype({'text' : str})\n",
    "df.drop('Unnamed', axis = 1, inplace = True)\n",
    "\n",
    "# Remove Duplicates\n",
    "df.drop_duplicates(inplace = True)\n",
    "print(df.shape)\n",
    "\n",
    "# Check and remove null values\n",
    "df = df.dropna()\n",
    "print(df.isnull().sum())\n",
    "\n",
    "# Remove stopwords and punctuations, print top 10 records \n",
    "stop_word = stopwords.words('english')\n",
    "df['text'] = df['text'].apply(lambda x: ' '.join ([word for word in x.split() if word not in (stop_word)]))\n",
    "df['text'] = df['text'].str.replace('[^\\w\\s]','')\n",
    "df.head(10)"
   ]
  },
  {
   "cell_type": "code",
   "execution_count": null,
   "metadata": {
    "colab": {
     "base_uri": "https://localhost:8080/"
    },
    "id": "ituI52e9a0Qy",
    "outputId": "7172f00c-004f-41e7-a19e-f83541fc31df"
   },
   "outputs": [
    {
     "name": "stdout",
     "output_type": "stream",
     "text": [
      "26305\n"
     ]
    }
   ],
   "source": [
    "# Define X and y values\n",
    "X = df['text']\n",
    "y = df['label_num']\n",
    "\n",
    "#Getting the max no of characters in an email\n",
    "max_value_column = df['text'].str.len().max()\n",
    "print(max_value_column)"
   ]
  },
  {
   "cell_type": "code",
   "execution_count": null,
   "metadata": {
    "id": "ZnNx9V84bJny"
   },
   "outputs": [],
   "source": [
    "# Splitting and reshaping training and testing data\n",
    "X_train, X_test, y_train, y_test = train_test_split(X, y, test_size = 0.20, random_state = 11)\n",
    "\n",
    "# Flattening input data\n",
    "X_train = X_train.values.ravel()\n",
    "X_test = X_test.values.ravel()\n",
    "y_train = y_train.values.ravel()"
   ]
  },
  {
   "cell_type": "code",
   "execution_count": null,
   "metadata": {
    "colab": {
     "base_uri": "https://localhost:8080/"
    },
    "id": "bRnNOMd7bvPY",
    "outputId": "b6628131-fac6-4427-8129-e90e53613b82"
   },
   "outputs": [
    {
     "name": "stdout",
     "output_type": "stream",
     "text": [
      "848374\n",
      "201080\n"
     ]
    }
   ],
   "source": [
    "# Library used for Refernced - https://scikit-learn.org/stable/modules/generated/sklearn.feature_extraction.text.CountVectorizer.html\n",
    "\n",
    "# Using CountVertorizer to convert train samples\n",
    "data_tr = X_train\n",
    "vectorizer = CountVectorizer()\n",
    "X_true_tr = vectorizer.fit_transform(data_tr.ravel()).toarray()\n",
    "print(X_true_tr.sum())\n",
    "\n",
    "# Using CountVertorizer to convert test samples\n",
    "data_ts = X_test\n",
    "X_true_ts = vectorizer.transform(data_ts).toarray()\n",
    "print(X_true_ts.sum())"
   ]
  },
  {
   "cell_type": "code",
   "execution_count": null,
   "metadata": {
    "id": "id7yxfrWcViB"
   },
   "outputs": [],
   "source": [
    "# Guassian Multinomial Naive Bayes Classifier\n",
    "# Library used for Refernced - https://scikit-learn.org/stable/modules/naive_bayes.html\n",
    "\n",
    "# Calling the classifier\n",
    "classifier_NB = GaussianNB()\n",
    "\n",
    "# Fitting the data\n",
    "classifier_NB.fit(X_true_tr, y_train)\n",
    "\n",
    "# Predicting the y values from X_true_ts\n",
    "y_pred = classifier_NB.predict(X_true_ts)"
   ]
  },
  {
   "cell_type": "code",
   "execution_count": null,
   "metadata": {
    "colab": {
     "base_uri": "https://localhost:8080/"
    },
    "id": "EYVXUxajcqxd",
    "outputId": "a18ce697-b875-4e02-97ca-ec2d9188fb35"
   },
   "outputs": [
    {
     "name": "stdout",
     "output_type": "stream",
     "text": [
      "Confusion matrix\n",
      "[[0.97643362 0.1048951 ]\n",
      " [0.03142184 0.86013986]]\n",
      "Accuracy score\n",
      "0.9550994227068633\n",
      "Classification Report\n",
      "              precision    recall  f1-score   support\n",
      "\n",
      "           0       0.97      0.98      0.97      1273\n",
      "           1       0.89      0.86      0.88       286\n",
      "\n",
      "    accuracy                           0.96      1559\n",
      "   macro avg       0.93      0.92      0.92      1559\n",
      "weighted avg       0.95      0.96      0.95      1559\n",
      "\n",
      "Mean squared error\n",
      "0.04490057729313662\n"
     ]
    }
   ],
   "source": [
    "# Print metrics for Naive Bayes\n",
    "\n",
    "# Confusion matrix\n",
    "cm_NB = confusion_matrix(y_test, y_pred)\n",
    "cm_NB = cm_NB/cm_NB.astype(float).sum(axis = 1)\n",
    "print('Confusion matrix')\n",
    "print(cm_NB)\n",
    "\n",
    "# Accuracy score\n",
    "acc_NB = accuracy_score(y_test, y_pred)\n",
    "print('Accuracy score')\n",
    "print(acc_NB)\n",
    "\n",
    "# Classification Report\n",
    "classreport_NB = classification_report(y_test,y_pred)\n",
    "print('Classification Report')\n",
    "print(classreport_NB)\n",
    "\n",
    "# Mean Squared Error\n",
    "mse_NB = np.square(np.subtract(y_test,y_pred)).mean()\n",
    "print('Mean squared error')\n",
    "print(mse_NB)"
   ]
  },
  {
   "cell_type": "code",
   "execution_count": null,
   "metadata": {
    "colab": {
     "base_uri": "https://localhost:8080/",
     "height": 283
    },
    "id": "6puOFRu0eCny",
    "outputId": "82423d17-6abe-40f5-8d9d-9534940dacfc"
   },
   "outputs": [
    {
     "data": {
      "text/plain": [
       "[<matplotlib.lines.Line2D at 0x7f8fe837c350>]"
      ]
     },
     "execution_count": 11,
     "metadata": {},
     "output_type": "execute_result"
    },
    {
     "data": {
      "image/png": "[encoded data removed]",
      "text/plain": [
       "<Figure size 432x288 with 1 Axes>"
      ]
     },
     "metadata": {
      "needs_background": "light"
     },
     "output_type": "display_data"
    }
   ],
   "source": [
    "# Logistic Regression\n",
    "# Library used for Refernced - https://scikit-learn.org/stable/modules/generated/sklearn.linear_model.LogisticRegression.html\n",
    "\n",
    "acc_log = []\n",
    "y_pred_act = []\n",
    "for i in range(1,5):\n",
    "  # Calling the classifier\n",
    "  logreg = LogisticRegression(solver = 'liblinear' , C = i)\n",
    "  # Fitting the data\n",
    "  logreg.fit(X_true_tr, y_train)\n",
    "  # Predicting the y values from X_true_ts\n",
    "  y_pred = logreg.predict(X_true_ts)\n",
    "  # Calculating accuracy score for each C value\n",
    "  acc = accuracy_score(y_test, y_pred)\n",
    "  # Adding the accuracy score to a list\n",
    "  acc_log.append(acc)\n",
    "  # Storing the y_pred value for C with maximum accuracy\n",
    "  if acc == max(acc_log):\n",
    "    y_pred_act = y_pred\n",
    "\n",
    "# Plotting C vs accuracy graph\n",
    "plt.plot([1,2,3,4], acc_log)"
   ]
  },
  {
   "cell_type": "code",
   "execution_count": null,
   "metadata": {
    "colab": {
     "base_uri": "https://localhost:8080/"
    },
    "id": "iST6WzyLe0ov",
    "outputId": "66f30426-58de-40be-cadd-1700ca4fb074"
   },
   "outputs": [
    {
     "name": "stdout",
     "output_type": "stream",
     "text": [
      "Confusion Matrix is\n",
      "[[0.99214454 0.03496503]\n",
      " [0.00706991 0.96853147]]\n",
      "Accuracy is\n",
      "0.9878127004490058\n",
      "Classification Matrix is\n",
      "              precision    recall  f1-score   support\n",
      "\n",
      "           0       0.99      0.99      0.99      1273\n",
      "           1       0.97      0.97      0.97       286\n",
      "\n",
      "    accuracy                           0.99      1559\n",
      "   macro avg       0.98      0.98      0.98      1559\n",
      "weighted avg       0.99      0.99      0.99      1559\n",
      "\n",
      "Mean squared error\n",
      "0.012187299550994226\n"
     ]
    }
   ],
   "source": [
    "# Metrics of Logistic Regression\n",
    "\n",
    "# Confusion matrix\n",
    "cm_lr = confusion_matrix(y_test, y_pred_act)\n",
    "cm_lr = cm_lr/cm_lr.astype(float).sum(axis = 1)\n",
    "print('Confusion Matrix is')\n",
    "print(cm_lr)\n",
    "\n",
    "# Accuracy score\n",
    "acc_lr = max(acc_log)\n",
    "print('Accuracy is')\n",
    "print(acc_lr)\n",
    "\n",
    "# Classification Report\n",
    "classreport_lr = classification_report(y_test, y_pred_act)\n",
    "print('Classification Matrix is')\n",
    "print(classreport_lr)\n",
    "\n",
    "# Mean Squared Error\n",
    "mse_lr = np.square(np.subtract(y_test, y_pred_act)).mean()\n",
    "print('Mean squared error')\n",
    "print(mse_lr)"
   ]
  },
  {
   "cell_type": "code",
   "execution_count": null,
   "metadata": {
    "colab": {
     "base_uri": "https://localhost:8080/",
     "height": 283
    },
    "id": "6WlwBZw1gF_q",
    "outputId": "0ce80e2c-8480-40e0-e8f8-5e95d2754c2f"
   },
   "outputs": [
    {
     "data": {
      "text/plain": [
       "[<matplotlib.lines.Line2D at 0x7f8fe5178250>]"
      ]
     },
     "execution_count": 15,
     "metadata": {},
     "output_type": "execute_result"
    },
    {
     "data": {
      "image/png": "[encoded data removed]",
      "text/plain": [
       "<Figure size 432x288 with 1 Axes>"
      ]
     },
     "metadata": {
      "needs_background": "light"
     },
     "output_type": "display_data"
    }
   ],
   "source": [
    "# Random Forest\n",
    "# Library used for Refernced - https://scikit-learn.org/stable/modules/generated/sklearn.ensemble.RandomForestClassifier.html\n",
    "\n",
    "acc_log = []\n",
    "y_pred_act = []\n",
    "iterator = list(range(25,50))\n",
    "for i in iterator:\n",
    "  # Calling the classifier\n",
    "  classifier_rf = RandomForestClassifier(n_estimators = i)\n",
    "  # Fitting the data\n",
    "  classifier_rf.fit(X_true_tr, y_train)\n",
    "  # Predicting the y values from X_true_ts\n",
    "  y_pred = classifier_rf.predict(X_true_ts)\n",
    "  # Calculating accuracy score for each C value\n",
    "  acc_i = accuracy_score(y_test, y_pred)\n",
    "  # Adding the accuracy score to a list\n",
    "  acc_log.append(acc_i)\n",
    "  # Storing the y_pred value for n_estimator with maximum accuracy\n",
    "  if acc_i == max(acc_log):\n",
    "    y_pred_act = y_pred\n",
    "\n",
    "# Plotting iterator vs accuracy graph\n",
    "plt.plot(iterator, acc_log)"
   ]
  },
  {
   "cell_type": "code",
   "execution_count": null,
   "metadata": {
    "colab": {
     "base_uri": "https://localhost:8080/"
    },
    "id": "PpNXPtMZgzLI",
    "outputId": "fab63c43-4d47-438a-9599-4b2887b77894"
   },
   "outputs": [
    {
     "name": "stdout",
     "output_type": "stream",
     "text": [
      "Confusion Matrix is\n",
      "[[0.99214454 0.03496503]\n",
      " [0.01728201 0.92307692]]\n",
      "Accuracy is\n",
      "0.9794740218088518\n",
      "Classification Matrix is\n",
      "              precision    recall  f1-score   support\n",
      "\n",
      "           0       0.98      0.99      0.99      1273\n",
      "           1       0.96      0.92      0.94       286\n",
      "\n",
      "    accuracy                           0.98      1559\n",
      "   macro avg       0.97      0.96      0.96      1559\n",
      "weighted avg       0.98      0.98      0.98      1559\n",
      "\n",
      "Mean Squared Error is\n",
      "0.021167415009621552\n"
     ]
    }
   ],
   "source": [
    "# Random Forest Metrics\n",
    "\n",
    "# Confusion matrix\n",
    "cm_rf = confusion_matrix(y_test, y_pred_act)\n",
    "cm_rf = cm_rf/cm_rf.astype(float).sum(axis = 1)\n",
    "print('Confusion Matrix is')\n",
    "print(cm_rf)\n",
    "\n",
    "# Accuracy score\n",
    "acc_rf = max(acc_log)\n",
    "print('Accuracy is')\n",
    "print(acc_rf)\n",
    "\n",
    "# Classification Report\n",
    "classreport_rf = classification_report(y_test, y_pred)\n",
    "print('Classification Matrix is')\n",
    "print(classreport_rf)\n",
    "\n",
    "# Mean Squared Error\n",
    "mse_rf = np.square(np.subtract(y_test, y_pred)).mean()\n",
    "print('Mean Squared Error is')\n",
    "print(mse_rf)"
   ]
  }
 ],
 "metadata": {
  "accelerator": "GPU",
  "colab": {
   "name": "Email Spam Detection Model.ipynb",
   "provenance": []
  },
  "kernelspec": {
   "display_name": "Python 3 (ipykernel)",
   "language": "python",
   "name": "python3"
  },
  "language_info": {
   "codemirror_mode": {
    "name": "ipython",
    "version": 3
   },
   "file_extension": ".py",
   "mimetype": "text/x-python",
   "name": "python",
   "nbconvert_exporter": "python",
   "pygments_lexer": "ipython3",
   "version": "3.9.12"
  }
 },
 "nbformat": 4,
 "nbformat_minor": 1
}
